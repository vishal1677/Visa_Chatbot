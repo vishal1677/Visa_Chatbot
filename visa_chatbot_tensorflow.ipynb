{
  "cells": [
    {
      "cell_type": "code",
      "execution_count": 1,
      "metadata": {
        "colab": {
          "base_uri": "https://localhost:8080/"
        },
        "id": "uI2N_BgGHOZ_",
        "outputId": "2ff93352-a86b-4ec4-aadd-580273626555"
      },
      "outputs": [
        {
          "output_type": "stream",
          "name": "stderr",
          "text": [
            "[nltk_data] Downloading package punkt to /root/nltk_data...\n",
            "[nltk_data]   Unzipping tokenizers/punkt.zip.\n"
          ]
        },
        {
          "output_type": "stream",
          "name": "stdout",
          "text": [
            "Looking in indexes: https://pypi.org/simple, https://us-python.pkg.dev/colab-wheels/public/simple/\n",
            "Collecting tflearn\n",
            "  Downloading tflearn-0.5.0.tar.gz (107 kB)\n",
            "\u001b[2K     \u001b[90m━━━━━━━━━━━━━━━━━━━━━━━━━━━━━━━━━━━━━━━\u001b[0m \u001b[32m107.3/107.3 KB\u001b[0m \u001b[31m3.1 MB/s\u001b[0m eta \u001b[36m0:00:00\u001b[0m\n",
            "\u001b[?25h  Preparing metadata (setup.py) ... \u001b[?25l\u001b[?25hdone\n",
            "Requirement already satisfied: numpy in /usr/local/lib/python3.9/dist-packages (from tflearn) (1.22.4)\n",
            "Requirement already satisfied: six in /usr/local/lib/python3.9/dist-packages (from tflearn) (1.16.0)\n",
            "Requirement already satisfied: Pillow in /usr/local/lib/python3.9/dist-packages (from tflearn) (8.4.0)\n",
            "Building wheels for collected packages: tflearn\n",
            "  Building wheel for tflearn (setup.py) ... \u001b[?25l\u001b[?25hdone\n",
            "  Created wheel for tflearn: filename=tflearn-0.5.0-py3-none-any.whl size=127299 sha256=a75bedc004d858b4f552ad8136af25a9eae07b7c8ce8916987e8d673add97b41\n",
            "  Stored in directory: /root/.cache/pip/wheels/4a/d5/f8/9585b4a100c0fd73da204ee785457d67c85e1b9050f009a849\n",
            "Successfully built tflearn\n",
            "Installing collected packages: tflearn\n",
            "Successfully installed tflearn-0.5.0\n"
          ]
        },
        {
          "output_type": "stream",
          "name": "stderr",
          "text": [
            "WARNING:tensorflow:From /usr/local/lib/python3.9/dist-packages/tensorflow/python/compat/v2_compat.py:107: disable_resource_variables (from tensorflow.python.ops.variable_scope) is deprecated and will be removed in a future version.\n",
            "Instructions for updating:\n",
            "non-resource variables are not supported in the long term\n"
          ]
        }
      ],
      "source": [
        "# Libraries needed for NLP\n",
        "import nltk\n",
        "nltk.download('punkt')\n",
        "from nltk.stem.lancaster import LancasterStemmer\n",
        "stemmer = LancasterStemmer()\n",
        "\n",
        "# Libraries needed for Tensorflow processing\n",
        "import tensorflow as tf\n",
        "import numpy as np\n",
        "!pip install tflearn\n",
        "import tflearn\n",
        "import random\n",
        "import json"
      ]
    },
    {
      "cell_type": "code",
      "execution_count": 3,
      "metadata": {
        "id": "M57hcdjQINcX"
      },
      "outputs": [],
      "source": [
        "# import our chat-bot intents file\n",
        "with open('intents.json') as json_data:\n",
        "    intents = json.load(json_data)"
      ]
    },
    {
      "cell_type": "code",
      "execution_count": 4,
      "metadata": {
        "colab": {
          "base_uri": "https://localhost:8080/"
        },
        "id": "GozCcvaQIY6T",
        "outputId": "8e69d8a0-ba51-4c93-a4f8-c9f2c47dbaf2"
      },
      "outputs": [
        {
          "output_type": "execute_result",
          "data": {
            "text/plain": [
              "{'intents': [{'tag': 'greeting',\n",
              "   'patterns': ['Hi',\n",
              "    'Hey',\n",
              "    'How are you',\n",
              "    'Is anyone there?',\n",
              "    'Hello',\n",
              "    'Good day'],\n",
              "   'responses': ['Hey :-)',\n",
              "    'Hello, thanks for visiting',\n",
              "    'Hi there, what can I do for you?',\n",
              "    'Hi there, how can I help?']},\n",
              "  {'tag': 'visa purpose,visa types,visa need ',\n",
              "   'patterns': ['What is a visa ?',\n",
              "    'Why do I need a visa ?',\n",
              "    'What types of visas are there ?',\n",
              "    'What is the purpose of a visa ?'],\n",
              "   'responses': ['A visa is an official document or endorsement that allows a person to enter, stay or exit a foreign country.There are several types of visas, including tourist visas, work visas, student visas, and immigration visas',\n",
              "    'A visa (Types of visas, including tourist visas, work visas, student visas, and immigration visas) is an official document or endorsement that allows a person to enter, stay or exit a foreign country.It is required to ensure that you have permission to enter and stay in a foreign country, and to confirm that you meet the necessary requirements for travel.',\n",
              "    'A visa is an official document or endorsement that allows a person to enter, stay or exit a foreign country.There are several types of visas, including tourist visas, work visas, student visas, and immigration visas',\n",
              "    'The purpose of a visa is to regulate the entry of foreign nationals into a country and ensure that they comply with immigration laws and regulations.There are several types of visas, including tourist visas, work visas, student visas, and immigration visas']},\n",
              "  {'tag': 'visa process, document , cost, application, expires',\n",
              "   'patterns': ['How do I apply for a visa ?',\n",
              "    'What documents do I need to apply for a visa ?',\n",
              "    'How long does it take to process a visa ?',\n",
              "    'How much does a visa cost ?'],\n",
              "   'responses': ['You can apply for a visa at the consulate or embassy of the country you wish to visit.The processing time for a visa can vary depending on the country and the type of visa. The application process may involve filling out forms, providing supporting documents(required for a visa application vary depending on the type of visa and the country you are applying to), and attending an interview.',\n",
              "    'You can apply for a visa at the consulate or embassy of the country you wish to visit. The documents required for a visa application vary depending on the type of visa and the country you are applying to but processing time for a visa can vary depending on the country and the type of visa',\n",
              "    'The processing time/cost of a visa can vary depending on the country and the type of visa.But you can apply/check at the consulate or embassy of the country you wish to visit and you always give correct document required for a visa application vary depending on the type of visa and the country you are applying to.',\n",
              "    'The cost /processing time of a visa can vary depending on the country and the type of visa.For this purpose, you can visit the consulate or embassy of the country you wish to visit and apply for a visa their itself wih document required for a visa application vary depending on the type of visa and the country you are applying to ']},\n",
              "  {'tag': 'tourist visa, work, study',\n",
              "   'patterns': ['Can I work on a tourist visa ?',\n",
              "    'Can I study with a tourist visa ?',\n",
              "    'What is a tourist visa ? '],\n",
              "   'responses': ['No, you are not allowed to work on a tourist visa (type of visa that allows a person to enter a foreign country for a specific period of time, usually for the purpose of tourism, leisure, or visiting friends and family).',\n",
              "    'No, you cannot study with a tourist visa (type of visa that allows a person to enter a foreign country for a specific period of time, usually for the purpose of tourism, leisure, or visiting friends and family).',\n",
              "    'A tourist visa is a type of visa that allows a person to enter a foreign country for a specific period of time, usually for the purpose of tourism, leisure, or visiting friends and family.You cannot study or work on tourist visa']},\n",
              "  {'tag': 'visa travel,extend ',\n",
              "   'patterns': ['Can I travel without a visa ?',\n",
              "    'Can I extend my visa ?',\n",
              "    'What should I do if I lose my passport while traveling on a visa ? '],\n",
              "   'responses': ['It depends on your nationality and the country you wish to visit. Some countries have visa-free agreements with certain countries, allowing travelers to enter without a visa for a limited period.But it may be possible to extend/apply your visa in some countries.',\n",
              "    'In some cases, it may be possible to extend your visa if you need to stay in the country longer than your original visa allows. However, in some countries have visa-free agreements with certain countries, allowing travelers to enter without a visa for a limited period.And if you lose your passport while traveling on a visa, you should contact the nearest embassy or consulate for your home country',\n",
              "    'If you lose your passport while traveling on a visa / you want to extend your visa, you should contact the nearest embassy or consulate for your home country .But if you want to travel without visa ,it depends on your nationality and the country you wish to visit.']},\n",
              "  {'tag': 'visa and passport,business ',\n",
              "   'patterns': ['What is a business visa ? ',\n",
              "    'What is an application process for business visa ? '],\n",
              "   'responses': ['A business visa is a type of visa that allows an individual to travel to another country for business-related purposes.You can obtain/apply business visa at the embassy or consulate of the country you wish to visit.',\n",
              "    'You can obtain/apply business visa(type of visa that allows an individual to travel to another country for business-related purposes) at the embassy or consulate of the country you wish to visit. The requirements for obtaining/appyling a business visa vary depending on the country ']},\n",
              "  {'tag': ' e-visa ',\n",
              "   'patterns': ['What is an e-visa ?',\n",
              "    'What is an application process for e-visa ? '],\n",
              "   'responses': ['An e-visa is an electronic visa that can be obtained online. Many countries now offer e-visas as a convenient way to apply for a visa without having to visit an embassy or consulate.',\n",
              "    'Many countries now offer e-visas(electronic visa that can be obtained online) as a convenient way to apply for a visa without having to visit an embassy or consulate.']},\n",
              "  {'tag': ' passport lost,visa and passport',\n",
              "   'patterns': ['What is the difference between a visa and a passport?',\n",
              "    'What should I do if I lose my passport while traveling on a visa ? '],\n",
              "   'responses': ['A passport is a document that proves your identity and citizenship, while a visa is a document that allows you to enter a foreign country for a specific purpose, such as tourism, business, or study.If you lose your passport while traveling on a visa, you should contact the nearest embassy or consulate for your home country',\n",
              "    'If you lose your passport(document that proves your identity and citizenship) while traveling on a visa( document that allows you to enter a foreign country for a specific purpose, such as tourism, business, or study.), you should contact the nearest embassy or consulate for your home country and follow their instructions for obtaining a replacement passport and any necessary travel documents.']},\n",
              "  {'tag': 'overstay ',\n",
              "   'patterns': ['What happens if I overstay my visa ?',\n",
              "    'How long can I stay in a foreign country with a visa ?'],\n",
              "   'responses': ['If you overstay your visa, you may be subject to fines, deportation, or other penalties. But also length of stay permitted by a visa varies depending on the type of visa and the country you are visiting.',\n",
              "    'The length of stay permitted by a visa varies depending on the type of visa and the country you are visiting and If you overstay your visa, you may be subject to fines, deportation, or other penalties .']},\n",
              "  {'tag': \"visa's application denial \",\n",
              "   'patterns': [\"What happens if my visa's application is denied ?\",\n",
              "    'What if my visa application is cancel ?'],\n",
              "   'responses': ['If your visa application is denied/cancel, you may be able to appeal the decision or reapply with additional supporting documents. ',\n",
              "    'If your visa application is denied/cancel, you may be able to appeal the decision or reapply with additional supporting documents.']},\n",
              "  {'tag': \"Australia's,Canada's ETA \",\n",
              "   'patterns': [\"What is an Australia's/Canada's ETA ? \",\n",
              "    \"How to apply for Australia's/Canada's ETA ?\",\n",
              "    \"How long does it take to get an Australia's/Canada's ETA visa ?\"],\n",
              "   'responses': ['An ETA is an Electronic Travel Authority that allows eligible citizens to travel to countries like Australia, Canada, etc for tourism or business purposes.To apply for an ETA (Visitor) visa, you must be outside Australia at the moment of applying and hold a passport issued by an ETA-eligible country or region.Applicants will receive a confirmation for ETA within minutes.',\n",
              "    'To apply for an ETA (Electronic Travel Authority that allows eligible citizens to travel to countries like Australia, Canada, etc for tourism or business purposes) visa, you must be outside the given country like Australia, Canada, etc at the moment of applying and hold a passport issued by an ETA-eligible country or region.Applicants will receive a confirmation for ETA within minutes.',\n",
              "    \"In most cases, applicants will receive a confirmation for ETA(Electronic Travel Authority that allows eligible citizens to travel to countries like Australia, Canada, etc for tourism or business purposes) within minutes as it is applied through online means on Official's visa website \"]},\n",
              "  {'tag': \"Australia's eVisitor \",\n",
              "   'patterns': [\"What is an Australia's eVisitor ?\",\n",
              "    \"How to apply for Australia's eVisitor ?\",\n",
              "    \"How long does it take to get an Australia's eVisitor visa ?\"],\n",
              "   'responses': ['An eVisitor is an electronic visa that allows eligible citizens to travel to Australia for tourism or business purposes.You can apply for an eVisitor online, through the official visa application portal of Australia.',\n",
              "    'You can apply for an eVisitor(Electronic visa that allows eligible citizens to travel to Australia for tourism or business purposes) online, through the official visa application portal of Australia.',\n",
              "    'The processing time of the Australia eVisitor(Electronic visa that allows eligible citizens to travel to Australia for tourism or business purposes) Visa depends on the timeframe in which your application is processed which done through the official visa application portal of Australia.']},\n",
              "  {'tag': \"Australia's,Canada's ETA \",\n",
              "   'patterns': [\"What is an Australia's/Canada's Visitor visa ?\",\n",
              "    \"What is the duration of Australia's/Canada's Visitor visa ?\",\n",
              "    \"How long does it take to get an Australia's/Canada's Visitor visa ?\"],\n",
              "   'responses': ['The Visitor visa allows you to visit countries like Australia, Canada, etc, either for tourism or business purposes .Generally, a period of stay of up to three months is granted, but up to 12 months may be granted in certain circumstances.The processing time of the Visitor visa is around twenty four hours.',\n",
              "    'Generally, a period of stay of Visator Visa(allows you to visit Australia, either for tourism or business purposes) up to three months is granted, but up to 12 months may be granted in certain circumstances.The processing time of the Visitor visa is around twenty four hours.',\n",
              "    'The processing time of the Visitor visa(allows you to visit countries like Australia, Canada, etc, either for tourism or business purposes) is around twenty four hours.But a period of stay of Visator Visa up to three months is granted, but up to 12 months may be granted in certain circumstances.']},\n",
              "  {'tag': \"Australia's migration,health requirement \",\n",
              "   'patterns': ['What if I want to migrate to Australia ?',\n",
              "    'What health requirements am I required to meet to enter Australia ?'],\n",
              "   'responses': ['Explore visa options/health requirement on the Department of Home Affairs website for options to become a permanent resident or health requirement options for visa.',\n",
              "    \"Everyone who wishes to enter Australia must meet the health requirement/visa options on Offical Australia's visa website \"]},\n",
              "  {'tag': \"Australia's Visa application,timeline\",\n",
              "   'patterns': [\"What is application process for Australia's visa ?\",\n",
              "    'How long does it take to get an Australian visa ?',\n",
              "    'What are the different types of Australian visas ?'],\n",
              "   'responses': ['The process for applying for a visa to Australia will depend on the type of visa(like tourist visas, student visas, work visas, and family visas) you require. You can apply for some visas online, while others require paper applications. But, Processing time for an Australian visa can vary depending on the type of visa and the country you are applying from ',\n",
              "    'The processing time for an Australian visa can vary depending on the type of visa(like tourist visas, student visas, work visas, and family visas) and the country you are applying from (which depend on the type of visa you require). Some visas can be processed within a few days, while others may take several weeks or months.',\n",
              "    'There are many different types of visas available for Australia, including tourist visas, student visas, work visas, and family visas.This is the factor on which processing time and process of application for visa depend upon.']},\n",
              "  {'tag': \"Australia's Visa extension,permanent residency\",\n",
              "   'patterns': ['Can I extend my Australian visa ?',\n",
              "    'Can I apply for permanent residency in Australia ?'],\n",
              "   'responses': ['It may be possible to extend your Australian visa in certain circumstances.You can also apply for permanent residency in Australia.',\n",
              "    'Yes, it is possible to apply for permanent residency in Australia. You can also extend your Australian visa in certain circumstances.']},\n",
              "  {'tag': \"Australia's Visa documents,requirement, rejection\",\n",
              "   'patterns': ['What documents do I need to provide when applying for an Australian visa ?',\n",
              "    'What are the requirements for an Australian visa ?',\n",
              "    'What happens if my Australian visa application is rejected?'],\n",
              "   'responses': ['The required documents will depend on the type of visa you are applying for. Generally, you will need to provide a valid passport, proof of financial support, and evidence of your purpose for visiting Australia (such as a letter of invitation, itinerary, or enrolment in a course).',\n",
              "    'The requirements for an Australian visa depend on the type of visa you are applying for and documents like a valid passport, proof of financial support, and evidence of your purpose for visiting Australia (such as a letter of invitation, itinerary, or enrolment in a course).',\n",
              "    'If your Australian visa application is rejected, you will be given the reason for the rejection in writing, it can be wrong documents(valid passport, proof of financial support, and evidence of your purpose for visiting Australia (such as a letter of invitation, itinerary, or enrolment in a course)) or due to submission of wrong requirement for visa( which depend on the type of visa ).']},\n",
              "  {'tag': \"Canada's Visa types,requirements,eligibility criteria\",\n",
              "   'patterns': ['What are the types of Canada visas ?',\n",
              "    'What are the eligibility criteria for a Canada visa ?',\n",
              "    'What are the requirements for an Canada visa ?'],\n",
              "   'responses': ['There are different types of Canada visas, including tourist visa, student visa, work visa, business visa, and permanent residency visa.',\n",
              "    'The eligibility criteria for a Canada visa vary based on the type of visa(tourist visa, student visa, work visa, business visa, and permanent residency visa) you are applying for. Generally, you need to have a valid passport, sufficient funds to support your stay in Canada, and meet the health and security requirements.',\n",
              "    \"Requirement for Canada's visa are : valid passport, sufficient funds to support your stay in Canada, and meet the health and security requirements.The eligibility criteria for a Canada vary based on the type of visa(tourist visa, student visa, work visa, business visa, and permanent residency visa) you are applying for\"]},\n",
              "  {'tag': \"Canada's Visa family members,parents\",\n",
              "   'patterns': ['Can I bring my family members to Canada on a visitor visa ?',\n",
              "    'Can I sponsor my parents to come to Canada ?'],\n",
              "   'responses': ['Yes, you can bring your family members to Canada on a visitor visa, provided they meet the eligibility criteria and submit the required documents.',\n",
              "    'Yes, Canadian citizens and permanent residents can sponsor their parents/family to come to Canada as permanent residents. However, there are strict eligibility requirements and the process can be lengthy.']},\n",
              "  {'tag': \"Canada's Immigration Visa,Work Permit\",\n",
              "   'patterns': ['What is Canada Immigration Visa ?',\n",
              "    'How is a Work Permit different from a Canada Immigration Visa ?'],\n",
              "   'responses': ['A Canada Immigration (Permanent Resident) Visa is a document which allows a person to live and work anywhere in Canada, and confers upon that person Permanent Resident status, which is contrast to Working Permit which allows an eligible individual to reside and work in Canada for a limited period of time, and restrictions are sometimes placed on the type of employment which can be pursued.',\n",
              "    'A Work Permit allows an eligible individual to reside and work in Canada for a limited period of time, and restrictions are sometimes placed on the type of employment which can be pursued.By contrast, a Canada Immigration Visa entitles its holder to live and work anywhere in Canada, enjoy many of the privileges of Canadian citizenship.']},\n",
              "  {'tag': \"Canada's Parent & Grandparent Super Visa\",\n",
              "   'patterns': ['How to apply for Parent & Grandparent Super Visa ?',\n",
              "    'What happens after appyling for Parent & Grandparent Super Visa ?',\n",
              "    'Who can do Medical Exams for Parent & Grandparent Super Visa ?'],\n",
              "   'responses': ['In order to qualify in for a Parent & Grandparent Super Visa there are some requirements you must meet like you must have a child/grandchild who is either a permanent resident of Canada; or Canadian citizen, you must also prove that your child/grandld can meet the minimum income threshold,etc',\n",
              "    'You need to have a medical exam done by someone listed on the panel of physicians and then you receive the Parent and Grandparent Super Visa, along with your passport and other documents, if your visa application is successful as it should meet the requirement like the child/grandld can meet the minimum income threshold,provide documents that state that your child/grandchild will support you financially,etc.',\n",
              "    'You need to have a medical exam done by someone listed on the panel of physicians after appyling to Parent & Grandparent Super Visa which has requirement that you met like  you must have a child/grandchild who is either a permanent resident of Canada; or Canadian citizen, you must also prove that your child/grandld can meet the minimum income threshold,etc. ']},\n",
              "  {'tag': \"Canada's Temporary Visa\",\n",
              "   'patterns': [\"What is Canada's Temporary visa ? \",\n",
              "    \"What is the duration of Canada's Temporary Visa ?\",\n",
              "    'Do I need a Temporary Visa to travel to Canada for a vacation ?',\n",
              "    'How long does it take to process a Temporary Visa in Canada ?'],\n",
              "   'responses': ['A temporary Canadian Visa is an official document that proves you have met the requirements for admission to Canada, as either a visitor or a temporary resident.Canadian Temporary Visas are valid for a period of 6 months.Canadian Temporary Visa can be used for a vacation purposes.The processing time for Canadian Temporary Visa is around 2-4 weeks.',\n",
              "    'If a specified time has not been indicated on your passport on arrival, the general rule is that Canadian Temporary Visas( Visa is an official document that proves you have met the requirements for admission to Canada, as either a visitor or a temporary resident) are valid for a period of 6 months.The processing time for Canadian Temporary Visa is around 2-4 weeks.',\n",
              "    'Yes,you may need a Canadian Temporary Visa( Visa is an official document that proves you have met the requirements for admission to Canada, as either a visitor or a temporary resident), or just a valid passport to travel through Canada.The processing time for Canadian Temporary Visa is around 2-4 weeks.',\n",
              "    'If you are a first time Canadian Visa applicant, or you have not travelled to Canada in the past 10 years, your temporary Canadian visa(official document that proves you have met the requirements for admission to Canada, as either a visitor or a temporary resident) application can take anywhere from 2-4 weeks to process.Canadian Temporary Visas are valid for a period of 6 months.Canadian Temporary Visa can be used for a vacation purposes']},\n",
              "  {'tag': \"Canada's Business visitor visa\",\n",
              "   'patterns': ['What is Bussiness visitor visa ?',\n",
              "    \"How to apply for a Canada's Business visitor visa ?\"],\n",
              "   'responses': [' Bussiness visitor visa allow short-term stays for business activities such as industry conferences, site visits, or training.',\n",
              "    'You are considered a business visitor visa(allow short-term stays for business activities such as industry conferences, site visits, or training.) if you wish to: Invest in Canadian businesses,Grow your own business,etc.']},\n",
              "  {'tag': 'goodbye',\n",
              "   'patterns': ['Bye', 'See you later', 'Goodbye'],\n",
              "   'responses': ['See you later, thanks for visiting',\n",
              "    'Have a nice day',\n",
              "    'Bye! Come back again soon.']},\n",
              "  {'tag': 'thanks',\n",
              "   'patterns': ['Thanks', 'Thank you', \"That's helpful\", \"Thank's a lot!\"],\n",
              "   'responses': ['Happy to help!', 'Any time!', 'My pleasure']},\n",
              "  {'tag': 'funny',\n",
              "   'patterns': ['Tell me a joke!',\n",
              "    'Tell me something funny!',\n",
              "    'Do you know a joke?'],\n",
              "   'responses': ['Why did the hipster burn his mouth? He drank the coffee before it was cool.',\n",
              "    'What did the buffalo say when his son left for college? Bison.']}]}"
            ]
          },
          "metadata": {},
          "execution_count": 4
        }
      ],
      "source": [
        "intents"
      ]
    },
    {
      "cell_type": "code",
      "execution_count": 5,
      "metadata": {
        "id": "yc1YmB-qIk1T"
      },
      "outputs": [],
      "source": [
        "words = []\n",
        "classes = []\n",
        "documents = []\n",
        "ignore = ['?']\n",
        "# loop through each sentence in the intent's patterns\n",
        "for intent in intents['intents']:\n",
        "    for pattern in intent['patterns']:\n",
        "        # tokenize each and every word in the sentence\n",
        "        w = nltk.word_tokenize(pattern)\n",
        "        # add word to the words list\n",
        "        words.extend(w)\n",
        "        # add word(s) to documents\n",
        "        documents.append((w, intent['tag']))\n",
        "        # add tags to our classes list\n",
        "        if intent['tag'] not in classes:\n",
        "            classes.append(intent['tag'])"
      ]
    },
    {
      "cell_type": "code",
      "execution_count": 6,
      "metadata": {
        "colab": {
          "base_uri": "https://localhost:8080/"
        },
        "id": "P6UfLpzOI10-",
        "outputId": "f62b0586-0ead-4ca1-b48b-92106c4a6bd3"
      },
      "outputs": [
        {
          "output_type": "stream",
          "name": "stdout",
          "text": [
            "75 documents\n",
            "25 classes [' e-visa ', ' passport lost,visa and passport', \"Australia's Visa application,timeline\", \"Australia's Visa documents,requirement, rejection\", \"Australia's Visa extension,permanent residency\", \"Australia's eVisitor \", \"Australia's migration,health requirement \", \"Australia's,Canada's ETA \", \"Canada's Business visitor visa\", \"Canada's Immigration Visa,Work Permit\", \"Canada's Parent & Grandparent Super Visa\", \"Canada's Temporary Visa\", \"Canada's Visa family members,parents\", \"Canada's Visa types,requirements,eligibility criteria\", 'funny', 'goodbye', 'greeting', 'overstay ', 'thanks', 'tourist visa, work, study', 'visa and passport,business ', 'visa process, document , cost, application, expires', 'visa purpose,visa types,visa need ', 'visa travel,extend ', \"visa's application denial \"]\n",
            "122 unique stemmed words ['!', '&', \"'s\", 'a', 'aft', 'am', 'an', 'and', 'anyon', 'apply', 'appyl', 'ar', 'aust', 'austral', \"australia's/canad\", 'between', 'bring', 'bussy', 'busy', 'bye', 'can', 'canad', 'cancel', 'com', 'cost', 'country', 'criter', 'day', 'deny', 'diff', 'do', 'docu', 'doe', 'dur', 'e-visa', 'elig', 'ent', 'et', 'evisit', 'exam', 'extend', 'famy', 'for', 'foreign', 'from', 'funny', 'get', 'good', 'goodby', 'grandp', 'hap', 'heal', 'hello', 'help', 'hey', 'hi', 'how', 'i', 'if', 'immigr', 'in', 'is', 'it', 'jok', 'know', 'lat', 'long', 'los', 'lot', 'me', 'med', 'meet', 'memb', 'migr', 'much', 'my', 'nee', 'of', 'on', 'overstay', 'par', 'passport', 'perm', 'permit', 'process', 'provid', 'purpos', 'reject', 'requir', 'resid', 'see', 'should', 'someth', 'spons', 'stay', 'study', 'sup', 'tak', 'tel', 'temp', 'thank', 'that', 'the', 'ther', 'to', 'tour', 'travel', 'typ', 'vac', 'vis', 'visa', 'visit', 'want', 'what', 'when', 'whil', 'who', 'why', 'with', 'without', 'work', 'you']\n"
          ]
        }
      ],
      "source": [
        "# Perform stemming and lower each word as well as remove duplicates\n",
        "words = [stemmer.stem(w.lower()) for w in words if w not in ignore]\n",
        "words = sorted(list(set(words)))\n",
        "\n",
        "# remove duplicate classes\n",
        "classes = sorted(list(set(classes)))\n",
        "\n",
        "print (len(documents), \"documents\")\n",
        "print (len(classes), \"classes\", classes)\n",
        "print (len(words), \"unique stemmed words\", words)"
      ]
    },
    {
      "cell_type": "code",
      "execution_count": 7,
      "metadata": {
        "colab": {
          "base_uri": "https://localhost:8080/"
        },
        "id": "g5lzg1mgJFAp",
        "outputId": "609fc245-6ef2-46d0-a17b-1eae9911e17e"
      },
      "outputs": [
        {
          "output_type": "stream",
          "name": "stderr",
          "text": [
            "<ipython-input-7-0222230fb184>:27: VisibleDeprecationWarning: Creating an ndarray from ragged nested sequences (which is a list-or-tuple of lists-or-tuples-or ndarrays with different lengths or shapes) is deprecated. If you meant to do this, you must specify 'dtype=object' when creating the ndarray.\n",
            "  training = np.array(training)\n"
          ]
        }
      ],
      "source": [
        "# create training data\n",
        "training = []\n",
        "output = []\n",
        "# create an empty array for output\n",
        "output_empty = [0] * len(classes)\n",
        "\n",
        "# create training set, bag of words for each sentence\n",
        "for doc in documents:\n",
        "    # initialize bag of words\n",
        "    bag = []\n",
        "    # list of tokenized words for the pattern\n",
        "    pattern_words = doc[0]\n",
        "    # stemming each word\n",
        "    pattern_words = [stemmer.stem(word.lower()) for word in pattern_words]\n",
        "    # create bag of words array\n",
        "    for w in words:\n",
        "        bag.append(1) if w in pattern_words else bag.append(0)\n",
        "\n",
        "    # output is '1' for current tag and '0' for rest of other tags\n",
        "    output_row = list(output_empty)\n",
        "    output_row[classes.index(doc[1])] = 1\n",
        "\n",
        "    training.append([bag, output_row])\n",
        "\n",
        "# shuffling features and turning it into np.array\n",
        "random.shuffle(training)\n",
        "training = np.array(training)\n",
        "\n",
        "# creating training lists\n",
        "train_x = list(training[:,0])\n",
        "train_y = list(training[:,1])"
      ]
    },
    {
      "cell_type": "code",
      "source": [
        "print(len(train_x[0]))\n",
        "print(len(train_y[0]))"
      ],
      "metadata": {
        "colab": {
          "base_uri": "https://localhost:8080/"
        },
        "id": "A42n_5BlR1Kk",
        "outputId": "754e7415-f090-4a0c-a4cf-67811e77a918"
      },
      "execution_count": 8,
      "outputs": [
        {
          "output_type": "stream",
          "name": "stdout",
          "text": [
            "122\n",
            "25\n"
          ]
        }
      ]
    },
    {
      "cell_type": "code",
      "execution_count": 9,
      "metadata": {
        "colab": {
          "base_uri": "https://localhost:8080/"
        },
        "id": "9j3KtUG8JgPJ",
        "outputId": "f1010f7c-370f-484a-a36e-eee24439e751"
      },
      "outputs": [
        {
          "output_type": "stream",
          "name": "stdout",
          "text": [
            "Training Step: 9999  | total loss: \u001b[1m\u001b[32m0.28968\u001b[0m\u001b[0m | time: 0.036s\n",
            "| Adam | epoch: 1000 | loss: 0.28968 - acc: 0.9522 -- iter: 72/75\n",
            "Training Step: 10000  | total loss: \u001b[1m\u001b[32m0.32095\u001b[0m\u001b[0m | time: 0.043s\n",
            "| Adam | epoch: 1000 | loss: 0.32095 - acc: 0.9236 -- iter: 75/75\n",
            "--\n"
          ]
        }
      ],
      "source": [
        "# resetting underlying graph data\n",
        "from tensorflow.python.framework import ops\n",
        "ops.reset_default_graph()\n",
        "# tf.reset_default_graph()\n",
        "\n",
        "# Building neural network\n",
        "net = tflearn.input_data(shape=[None, len(train_x[0])])\n",
        "net = tflearn.fully_connected(net, 10)\n",
        "net = tflearn.fully_connected(net, 10)\n",
        "net = tflearn.fully_connected(net, len(train_y[0]), activation='softmax')\n",
        "net = tflearn.regression(net)\n",
        "\n",
        "# Defining model and setting up tensorboard\n",
        "model = tflearn.DNN(net, tensorboard_dir='tflearn_logs')\n",
        "\n",
        "# Start training\n",
        "model.fit(train_x, train_y, n_epoch=1000, batch_size=8, show_metric=True)\n",
        "model.save('model.tflearn')"
      ]
    },
    {
      "cell_type": "code",
      "execution_count": null,
      "metadata": {
        "id": "l7TdYchaKq22"
      },
      "outputs": [],
      "source": [
        "import pickle\n",
        "pickle.dump( {'words':words, 'classes':classes, 'train_x':train_x, 'train_y':train_y}, open( \"training_data\", \"wb\" ) )"
      ]
    },
    {
      "cell_type": "code",
      "execution_count": null,
      "metadata": {
        "id": "fZNyfRnmLCw5"
      },
      "outputs": [],
      "source": [
        "# restoring all the data structures\n",
        "data = pickle.load( open( \"training_data\", \"rb\" ) )\n",
        "words = data['words']\n",
        "classes = data['classes']\n",
        "train_x = data['train_x']\n",
        "train_y = data['train_y']"
      ]
    },
    {
      "cell_type": "code",
      "execution_count": null,
      "metadata": {
        "id": "Lmj6PO4sLIga"
      },
      "outputs": [],
      "source": [
        "with open('intents.json') as json_data:\n",
        "    intents = json.load(json_data)\n",
        "     "
      ]
    },
    {
      "cell_type": "code",
      "execution_count": null,
      "metadata": {
        "id": "HZ1SQOtnLcBZ"
      },
      "outputs": [],
      "source": [
        "# load the saved model\n",
        "model.load('./model.tflearn')"
      ]
    },
    {
      "cell_type": "code",
      "execution_count": null,
      "metadata": {
        "id": "v1hAVFi0LeTi"
      },
      "outputs": [],
      "source": [
        "def clean_up_sentence(sentence):\n",
        "    # tokenizing the pattern\n",
        "    sentence_words = nltk.word_tokenize(sentence)\n",
        "    # stemming each word\n",
        "    sentence_words = [stemmer.stem(word.lower()) for word in sentence_words]\n",
        "    return sentence_words\n",
        "\n",
        "# returning bag of words array: 0 or 1 for each word in the bag that exists in the sentence\n",
        "def bow(sentence, words, show_details=False):\n",
        "    # tokenizing the pattern\n",
        "    sentence_words = clean_up_sentence(sentence)\n",
        "    # generating bag of words\n",
        "    bag = [0]*len(words)  \n",
        "    for s in sentence_words:\n",
        "        for i,w in enumerate(words):\n",
        "            if w == s: \n",
        "                bag[i] = 1\n",
        "                if show_details:\n",
        "                    print (\"found in bag: %s\" % w)\n",
        "\n",
        "    return(np.array(bag))\n"
      ]
    },
    {
      "cell_type": "code",
      "execution_count": null,
      "metadata": {
        "id": "VdBtjdayLmeJ"
      },
      "outputs": [],
      "source": [
        "ERROR_THRESHOLD = 0.1\n",
        "def classify(sentence):\n",
        "    # generate probabilities from the model\n",
        "    results = model.predict([bow(sentence, words)])[0]\n",
        "    # filter out predictions below a threshold\n",
        "    results = [[i,r] for i,r in enumerate(results) if r>ERROR_THRESHOLD]\n",
        "    # sort by strength of probability\n",
        "    results.sort(key=lambda x: x[1], reverse=True)\n",
        "    return_list = []\n",
        "    for r in results:\n",
        "        return_list.append((classes[r[0]], r[1]))\n",
        "    # return tuple of intent and probability\n",
        "    return return_list\n",
        "\n",
        "def response(sentence, userID='123', show_details=False):\n",
        "    results = classify(sentence)\n",
        "    # if we have a classification then find the matching intent tag\n",
        "    if results:\n",
        "        # loop as long as there are matches to process\n",
        "        while results:\n",
        "            for i in intents['intents']:\n",
        "                # find a tag matching the first result\n",
        "                if i['tag'] == results[0][0]:\n",
        "                    # a random response from the intent\n",
        "                    return print(random.choice(i['responses']))\n",
        "               \n",
        "            \n",
        "\n"
      ]
    },
    {
      "cell_type": "code",
      "execution_count": null,
      "metadata": {
        "colab": {
          "base_uri": "https://localhost:8080/"
        },
        "id": "8MpK_0sBLw7I",
        "outputId": "632a1022-7d48-4c36-aa18-a4bb8bb81e66"
      },
      "outputs": [
        {
          "data": {
            "text/plain": [
              "[('visa purpose, types, need, e-visa ', 0.97093886)]"
            ]
          },
          "execution_count": 74,
          "metadata": {},
          "output_type": "execute_result"
        }
      ],
      "source": [
        "classify('What is visa')\n"
      ]
    },
    {
      "cell_type": "code",
      "execution_count": null,
      "metadata": {
        "colab": {
          "background_save": true,
          "base_uri": "https://localhost:8080/"
        },
        "id": "7fEzjQrWL3ER",
        "outputId": "90e108e0-e92c-4c00-944a-364c5fca603f"
      },
      "outputs": [
        {
          "data": {
            "text/plain": [
              "[('greeting', 0.9168194)]"
            ]
          },
          "execution_count": 75,
          "metadata": {},
          "output_type": "execute_result"
        }
      ],
      "source": [
        "classify('you ar')\n"
      ]
    },
    {
      "cell_type": "code",
      "execution_count": null,
      "metadata": {
        "id": "wc7BMU1JMMkX"
      },
      "outputs": [],
      "source": [
        "#Adding some context to the conversation i.e. Contexualization for altering question and intents etc.\n",
        "# create a data structure to hold user context\n",
        "context = {}\n",
        "\n",
        "ERROR_THRESHOLD = 0.25\n",
        "def classify(sentence):\n",
        "    # generate probabilities from the model\n",
        "    results = model.predict([bow(sentence, words)])[0]\n",
        "    # filter out predictions below a threshold\n",
        "    results = [[i,r] for i,r in enumerate(results) if r>ERROR_THRESHOLD]\n",
        "    # sort by strength of probability\n",
        "    results.sort(key=lambda x: x[1], reverse=True)\n",
        "    return_list = []\n",
        "    for r in results:\n",
        "        return_list.append((classes[r[0]], r[1]))\n",
        "    # return tuple of intent and probability\n",
        "    return return_list\n",
        "\n",
        "def response(sentence, userID='123', show_details=False):\n",
        "    results = classify(sentence)\n",
        "    # if we have a classification then find the matching intent tag\n",
        "    if results:\n",
        "        # loop as long as there are matches to process\n",
        "        while results:\n",
        "            for i in intents['intents']:\n",
        "                # find a tag matching the first result\n",
        "                if i['tag'] == results[0][0]:\n",
        "                    # set context for this intent if necessary\n",
        "                    if 'context_set' in i:\n",
        "                        if show_details: print ('context:', i['context_set'])\n",
        "                        context[userID] = i['context_set']\n",
        "\n",
        "                    # check if this intent is contextual and applies to this user's conversation\n",
        "                    if not 'context_filter' in i or \\\n",
        "                        (userID in context and 'context_filter' in i and i['context_filter'] == context[userID]):\n",
        "                        if show_details: print ('tag:', i['tag'])\n",
        "                        # a random response from the intent\n",
        "                        return print(random.choice(i['responses']))\n",
        "\n",
        "            results.pop(0)"
      ]
    },
    {
      "cell_type": "code",
      "execution_count": null,
      "metadata": {
        "colab": {
          "background_save": true,
          "base_uri": "https://localhost:8080/"
        },
        "id": "4aHcQrIIMO6n",
        "outputId": "a1f917d9-35ad-4968-d699-9fe3827eed60"
      },
      "outputs": [
        {
          "data": {
            "text/plain": [
              "[('greeting', 0.9168194)]"
            ]
          },
          "execution_count": 77,
          "metadata": {},
          "output_type": "execute_result"
        }
      ],
      "source": [
        "classify('')\n"
      ]
    },
    {
      "cell_type": "code",
      "execution_count": null,
      "metadata": {
        "colab": {
          "base_uri": "https://localhost:8080/"
        },
        "id": "N577R1UANCXY",
        "outputId": "67b1e4cd-c3b1-4168-f8e9-6aaea456f7dd"
      },
      "outputs": [
        {
          "name": "stdout",
          "output_type": "stream",
          "text": [
            "We're open every day 9am-9pm\n"
          ]
        }
      ],
      "source": [
        "response('What are you hours of operation?')\n"
      ]
    }
  ],
  "metadata": {
    "colab": {
      "provenance": []
    },
    "kernelspec": {
      "display_name": "Python 3",
      "name": "python3"
    },
    "language_info": {
      "name": "python"
    }
  },
  "nbformat": 4,
  "nbformat_minor": 0
}